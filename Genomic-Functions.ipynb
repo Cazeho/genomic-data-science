{
 "cells": [
  {
   "cell_type": "markdown",
   "metadata": {},
   "source": [
    "### In-Frame Stop Codon Function"
   ]
  },
  {
   "cell_type": "code",
   "execution_count": 10,
   "metadata": {},
   "outputs": [],
   "source": [
    "def has_stop_codon(dna, frame=0):\n",
    "    \"\"\"This function checks if given dna sequence has in-frame stop codons.\"\"\"\n",
    "    stop_codon_found=False\n",
    "    stop_codons=['tga', 'tag', 'taa']\n",
    "    for i in range(frame, len(dna), 3):\n",
    "        codon = dna[i:i+3].lower()\n",
    "        if codon in stop_codons:\n",
    "            stop_codon_found=True\n",
    "            break\n",
    "    return stop_codon_found"
   ]
  },
  {
   "cell_type": "markdown",
   "metadata": {},
   "source": [
    "### Boolean Function"
   ]
  },
  {
   "cell_type": "code",
   "execution_count": 11,
   "metadata": {},
   "outputs": [
    {
     "name": "stdout",
     "output_type": "stream",
     "text": [
      "Enter a DNA sequence: atgagcggccggct\n",
      "Input sequence has no in-frame stop codons.\n"
     ]
    }
   ],
   "source": [
    "# def has_stop_codon function\n",
    "dna = input(\"Enter a DNA sequence: \")\n",
    "\n",
    "if(has_stop_codon(dna)):\n",
    "    print(\"Input sequence has an in-frame stop codon.\")\n",
    "else:\n",
    "    print(\"Input sequence has no in-frame stop codons.\")"
   ]
  },
  {
   "cell_type": "code",
   "execution_count": 12,
   "metadata": {},
   "outputs": [
    {
     "data": {
      "text/plain": [
       "False"
      ]
     },
     "execution_count": 12,
     "metadata": {},
     "output_type": "execute_result"
    }
   ],
   "source": [
    "dna = \"atgagcggccggct\"\n",
    "has_stop_codon(dna, 0)"
   ]
  },
  {
   "cell_type": "code",
   "execution_count": 13,
   "metadata": {},
   "outputs": [
    {
     "data": {
      "text/plain": [
       "True"
      ]
     },
     "execution_count": 13,
     "metadata": {},
     "output_type": "execute_result"
    }
   ],
   "source": [
    "has_stop_codon(dna, 1)"
   ]
  },
  {
   "cell_type": "markdown",
   "metadata": {},
   "source": [
    "### Creating Reverse Complement Function"
   ]
  },
  {
   "cell_type": "code",
   "execution_count": 14,
   "metadata": {},
   "outputs": [],
   "source": [
    "def reverse_string(seq):\n",
    "    return seq[::-1]"
   ]
  },
  {
   "cell_type": "code",
   "execution_count": 15,
   "metadata": {},
   "outputs": [],
   "source": [
    "def complement(dna):\n",
    "    \"\"\"Return the complementary sequence string.\"\"\"\n",
    "    basecomplement = {'A':'T', 'C':'G', 'G':'C', 'T':'A', 'N':'N', 'a':'t', 'c':'g', 'g':'c', 't':'a', 'n':'n'}\n",
    "    letters = list(dna)\n",
    "    letters = [basecomplement[base] for base in letters]\n",
    "    return ''.join(letters)"
   ]
  },
  {
   "cell_type": "code",
   "execution_count": 16,
   "metadata": {},
   "outputs": [],
   "source": [
    "def reversecomplement(seq):\n",
    "    \"\"\"Returns the reverse complement of the dna string.\"\"\"\n",
    "    seq = reverse_string(seq)\n",
    "    seq = complement(seq)\n",
    "    return seq"
   ]
  },
  {
   "cell_type": "code",
   "execution_count": 17,
   "metadata": {},
   "outputs": [
    {
     "data": {
      "text/plain": [
       "'agccggccgctcat'"
      ]
     },
     "execution_count": 17,
     "metadata": {},
     "output_type": "execute_result"
    }
   ],
   "source": [
    "reversecomplement(dna)"
   ]
  }
 ],
 "metadata": {
  "kernelspec": {
   "display_name": "Python 3",
   "language": "python",
   "name": "python3"
  },
  "language_info": {
   "codemirror_mode": {
    "name": "ipython",
    "version": 3
   },
   "file_extension": ".py",
   "mimetype": "text/x-python",
   "name": "python",
   "nbconvert_exporter": "python",
   "pygments_lexer": "ipython3",
   "version": "3.7.7"
  }
 },
 "nbformat": 4,
 "nbformat_minor": 2
}
