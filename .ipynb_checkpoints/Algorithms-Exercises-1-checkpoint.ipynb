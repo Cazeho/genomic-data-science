{
 "cells": [
  {
   "cell_type": "markdown",
   "metadata": {},
   "source": [
    "# Algorithms for Genomic Data Science--Week 1 Exercises"
   ]
  },
  {
   "cell_type": "markdown",
   "metadata": {},
   "source": [
    "#### Question 1\n",
    "How many times does 'AGGT' or its reverse complement 'ACCT' occur in the lambda virus genome? \n",
    "E.g. if 'AGGT' occurs 10 times and 'ACCT' occurs 12 times, you should report 22."
   ]
  },
  {
   "cell_type": "code",
   "execution_count": 2,
   "metadata": {},
   "outputs": [],
   "source": [
    "def PatternCount(T, P):\n",
    "    count = 0\n",
    "    for i in range(0, (abs(len(T))-abs(len(P)))): #if using with symbol array + 1\n",
    "        if T[i:i+len(P)]==P:\n",
    "            count += 1\n",
    "    return count"
   ]
  },
  {
   "cell_type": "code",
   "execution_count": 3,
   "metadata": {},
   "outputs": [],
   "source": [
    "def reverseComplement(s):\n",
    "    complement = {'A':'T', 'C':'G', 'G':'C', 'T':'A', 'N':'N', 'a':'t', 'c':'g', 't':'a', 'n':'n'}\n",
    "    t = ''\n",
    "    for base in s:\n",
    "        t = complement[base] + t\n",
    "    return t"
   ]
  },
  {
   "cell_type": "code",
   "execution_count": 4,
   "metadata": {},
   "outputs": [],
   "source": [
    "def readGenome(filename):\n",
    "    genome = ''\n",
    "    with open(filename, 'r') as f:\n",
    "        for line in f:\n",
    "            if not line[0] == '>':\n",
    "                genome += line.rstrip()\n",
    "    return genome"
   ]
  },
  {
   "cell_type": "code",
   "execution_count": 5,
   "metadata": {},
   "outputs": [],
   "source": [
    "genome = readGenome('lambda_virus.fa')"
   ]
  },
  {
   "cell_type": "code",
   "execution_count": 6,
   "metadata": {},
   "outputs": [
    {
     "name": "stdout",
     "output_type": "stream",
     "text": [
      "150\n"
     ]
    }
   ],
   "source": [
    "T = genome\n",
    "P = 'AGGT'\n",
    "print(PatternCount(T, P))"
   ]
  },
  {
   "cell_type": "code",
   "execution_count": 7,
   "metadata": {},
   "outputs": [
    {
     "name": "stdout",
     "output_type": "stream",
     "text": [
      "156\n"
     ]
    }
   ],
   "source": [
    "T = genome\n",
    "P = reverseComplement('AGGT')\n",
    "print(PatternCount(T, P))"
   ]
  },
  {
   "cell_type": "markdown",
   "metadata": {},
   "source": [
    "#### Question 2\n",
    "How many times does 'TTAA' or its reverse complement occur in the lambda virus genome?"
   ]
  },
  {
   "cell_type": "code",
   "execution_count": 39,
   "metadata": {},
   "outputs": [
    {
     "name": "stdout",
     "output_type": "stream",
     "text": [
      "195\n"
     ]
    }
   ],
   "source": [
    "T = genome\n",
    "P = \"TTAA\"\n",
    "print(PatternCount(T, P))"
   ]
  },
  {
   "cell_type": "code",
   "execution_count": 40,
   "metadata": {},
   "outputs": [
    {
     "name": "stdout",
     "output_type": "stream",
     "text": [
      "195\n"
     ]
    }
   ],
   "source": [
    "T = genome\n",
    "P = reverseComplement(\"TTAA\")\n",
    "print(PatternCount(T, P))"
   ]
  },
  {
   "cell_type": "markdown",
   "metadata": {},
   "source": [
    "#### Question 3\n",
    "What is the offset of the leftmost occurrence of 'ACTAAGT' or its reverse complement in the Lambda virus genome? \n",
    "E.g. if the leftmost occurrence of 'ACTAAGT' is at offset 40 (0-based) and the leftmost occurrence of its reverse complement 'ACTTAGT' is at offset 29, then report 29."
   ]
  },
  {
   "cell_type": "code",
   "execution_count": 10,
   "metadata": {},
   "outputs": [],
   "source": [
    "def naive(p,t):    #where p = pattern and t = text\n",
    "    occurrences = []\n",
    "    for i in range(len(t) - len(p) + 1): # loop over alignments\n",
    "        match = True\n",
    "        for j in range(len(p)): # loop over characters\n",
    "            if t[i+j] != p[j]:  # compare characters\n",
    "                match = False   # mismatch; reject alignment\n",
    "                break           \n",
    "        if match:\n",
    "            occurrences.append(i) # all characters matched; record\n",
    "    return occurrences"
   ]
  },
  {
   "cell_type": "code",
   "execution_count": 11,
   "metadata": {},
   "outputs": [
    {
     "name": "stdout",
     "output_type": "stream",
     "text": [
      "[27733, 45382]\n"
     ]
    }
   ],
   "source": [
    "P = 'ACTAAGT'\n",
    "T = genome\n",
    "print(naive(P, T))"
   ]
  },
  {
   "cell_type": "code",
   "execution_count": 12,
   "metadata": {},
   "outputs": [
    {
     "name": "stdout",
     "output_type": "stream",
     "text": [
      "[26028]\n"
     ]
    }
   ],
   "source": [
    "print(naive(reverseComplement(P), T))"
   ]
  },
  {
   "cell_type": "markdown",
   "metadata": {},
   "source": [
    "#### Question 4\n",
    "What is the offset of the leftmost occurrence of 'AGTCGA' or its reverse complement in the Lambda virus genome?"
   ]
  },
  {
   "cell_type": "code",
   "execution_count": 13,
   "metadata": {},
   "outputs": [
    {
     "name": "stdout",
     "output_type": "stream",
     "text": [
      "[18005, 23320, 33657, 44806]\n"
     ]
    }
   ],
   "source": [
    "P = \"AGTCGA\"\n",
    "T = genome\n",
    "print(naive(P, T))"
   ]
  },
  {
   "cell_type": "code",
   "execution_count": 14,
   "metadata": {},
   "outputs": [
    {
     "name": "stdout",
     "output_type": "stream",
     "text": [
      "[450, 1908, 2472, 41927, 45369]\n"
     ]
    }
   ],
   "source": [
    "print(naive(reverseComplement(P), T))"
   ]
  },
  {
   "cell_type": "markdown",
   "metadata": {},
   "source": [
    "#### Question 5\n",
    "As we will discuss, sometimes we would like to find approximate matches for P in T. That is, we want to find occurrences with one or more differences.\n",
    "\n",
    "For Questions 5 and 6, make a new version of the \"naive\" function called \"naive_2mm\" that allows up to 2 mismatches per occurrence. Unlike for the previous questions, do not consider the reverse complement here. We're looking for approximate matches for P itself, not its reverse complement.\n",
    "\n",
    "How many times does \"TTCAAGCC\" occur in the Lambda virus genome when allowing up to 2 mismatches?"
   ]
  },
  {
   "cell_type": "code",
   "execution_count": 15,
   "metadata": {},
   "outputs": [],
   "source": [
    "def HammingDistance(p, q):\n",
    "    count = 0\n",
    "    for i, j in zip(p, q):\n",
    "        if i != j:\n",
    "            count += 1\n",
    "    return count"
   ]
  },
  {
   "cell_type": "code",
   "execution_count": 16,
   "metadata": {},
   "outputs": [],
   "source": [
    "def ApproximatePatternMatching(Text, Pattern, d):\n",
    "    positions = []\n",
    "    for i in range(len(Text)-len(Pattern) + 1):\n",
    "        if HammingDistance(Text[i:i+len(Pattern)], Pattern) <= d:\n",
    "            positions.append(i)\n",
    "    return positions"
   ]
  },
  {
   "cell_type": "code",
   "execution_count": 17,
   "metadata": {},
   "outputs": [
    {
     "name": "stdout",
     "output_type": "stream",
     "text": [
      "[45, 418, 656, 776, 975, 1311, 1346, 3166, 3265, 3292, 3544, 4237, 4378, 4481, 4518, 5240, 5369, 5597, 5773, 5871, 5971, 6350, 6365, 6564, 6572, 6684, 6731, 6764, 6765, 6929, 7026, 7487, 7783, 7790, 8222, 8251, 8284, 8749, 9078, 9197, 9506, 9942, 10734, 10969, 11211, 11331, 11453, 11640, 11973, 12711, 13670, 13750, 13884, 14687, 14884, 15745, 16293, 16817, 17107, 17349, 17541, 17779, 17838, 18792, 19067, 19719, 19779, 21614, 21854, 22174, 22462, 22722, 22956, 23126, 23522, 23677, 23683, 23820, 23885, 24369, 24584, 24787, 25116, 25554, 26046, 26665, 26887, 27237, 27258, 28166, 28276, 28531, 28639, 28920, 28963, 29021, 29144, 29733, 29921, 30176, 30278, 30362, 30395, 30536, 30721, 30967, 31049, 31379, 31449, 31474, 31482, 31641, 31732, 31749, 31829, 31867, 31872, 32523, 32640, 32754, 32779, 32857, 32977, 33079, 33107, 33371, 33403, 33653, 33686, 33863, 34061, 34194, 34466, 34588, 34733, 34785, 35009, 35156, 35525, 35971, 36074, 36989, 37116, 37241, 37467, 37499, 37505, 37715, 37739, 37773, 37880, 37898, 38140, 38144, 38202, 38260, 38325, 38944, 38979, 40379, 40695, 40716, 40880, 41275, 41350, 41518, 41834, 42170, 42650, 42675, 42684, 42934, 42971, 42980, 43061, 43076, 43169, 44012, 44253, 44340, 44422, 44717, 44747, 45894, 46272, 46482, 47207, 47272, 47509, 47963, 48234]\n"
     ]
    }
   ],
   "source": [
    "T = genome\n",
    "P = 'TTCAAGCC'\n",
    "d = 2\n",
    "print(ApproximatePatternMatching(T, P, d))"
   ]
  },
  {
   "cell_type": "code",
   "execution_count": 18,
   "metadata": {},
   "outputs": [],
   "source": [
    "def ApproximatePatternCount(Text, Pattern, d):\n",
    "    count = 0\n",
    "    for i in range(len(Text)-len(Pattern) + 1):\n",
    "        if HammingDistance(Text[i:i+len(Pattern)], Pattern) <= d:\n",
    "            count += 1\n",
    "    return count"
   ]
  },
  {
   "cell_type": "code",
   "execution_count": 19,
   "metadata": {},
   "outputs": [
    {
     "name": "stdout",
     "output_type": "stream",
     "text": [
      "191\n"
     ]
    }
   ],
   "source": [
    "print(ApproximatePatternCount(T, P, d))"
   ]
  },
  {
   "cell_type": "markdown",
   "metadata": {},
   "source": [
    "#### Question 6\n",
    "What is the offset of the leftmost occurrence of 'AGGAGGTT' in the Lambda virus genome when allowing up to 2 mismatches?"
   ]
  },
  {
   "cell_type": "code",
   "execution_count": 20,
   "metadata": {},
   "outputs": [
    {
     "name": "stdout",
     "output_type": "stream",
     "text": [
      "[49, 282, 299, 302, 380, 1560, 1650, 2235, 2277, 2400, 2562, 2565, 2729, 2823, 3160, 3181, 3946, 4210, 4294, 4309, 4405, 4580, 5069, 5159, 5189, 5231, 5331, 5519, 5737, 5882, 5993, 5996, 6011, 6312, 6522, 6585, 6606, 7316, 7394, 7819, 7904, 7966, 7998, 8534, 8648, 8946, 9339, 9354, 9530, 9842, 9966, 10041, 10250, 10416, 10445, 10484, 10527, 10874, 11193, 11292, 11505, 11568, 11655, 11745, 11838, 12078, 12180, 12222, 12697, 12745, 12819, 12880, 12935, 13011, 13087, 13256, 13415, 13526, 13813, 14259, 15385, 15473, 16192, 17101, 17437, 17755, 17936, 17989, 18016, 18040, 18727, 18853, 18911, 19232, 19263, 19310, 19833, 19929, 19932, 19947, 19980, 20793, 20802, 21305, 21528, 21627, 21684, 22414, 22660, 22670, 22787, 23326, 24063, 24145, 24409, 24595, 24681, 25120, 25139, 25210, 25381, 25384, 25648, 25664, 25773, 25987, 26196, 26208, 26576, 26587, 26653, 26736, 27892, 27967, 28042, 28622, 28840, 28976, 29119, 30029, 30530, 30673, 30902, 31619, 31645, 31682, 31843, 31859, 32069, 33180, 33365, 33715, 33952, 34321, 34421, 34841, 34848, 34956, 35145, 35253, 35289, 35643, 36185, 36687, 36869, 38030, 38197, 38381, 38479, 38737, 39282, 39600, 39681, 39786, 39828, 39954, 40119, 40337, 40508, 40781, 40887, 40890, 40946, 41110, 41225, 41264, 41282, 41324, 41570, 41693, 41717, 41768, 42079, 42082, 42266, 42353, 43039, 43184, 43389, 43662, 43689, 45033, 45727, 45763, 45781, 45790, 46173, 46215, 47028, 47220, 47930, 48101, 48256, 48301, 48411]\n"
     ]
    }
   ],
   "source": [
    "T = genome\n",
    "P = \"AGGAGGTT\"\n",
    "d = 2\n",
    "print(ApproximatePatternMatching(T, P, d))"
   ]
  },
  {
   "cell_type": "markdown",
   "metadata": {},
   "source": [
    "#### Question 7\n",
    "This dataset has something wrong with it; one of the sequencing cycles is poor quality.\n",
    "\n",
    "Report which sequencing cycle has the problem. Remember that a sequencing cycle corresponds to a particular offset in all the reads. For example, if the leftmost read position seems to have a problem consistently across reads, report 0. If the fourth position from the left has the problem, report 3. Do whatever analysis you think is needed to identify the bad cycle. It might help to review the \"Analyzing reads by position\" video."
   ]
  },
  {
   "cell_type": "code",
   "execution_count": 22,
   "metadata": {},
   "outputs": [],
   "source": [
    "def readFastq(filename):\n",
    "    sequences =[]\n",
    "    qualities = []\n",
    "    with open(filename) as fh:\n",
    "        while True:\n",
    "            fh.readline()\n",
    "            seq = fh.readline().rstrip()\n",
    "            fh.readline()\n",
    "            qual = fh.readline().rstrip()\n",
    "            if len(seq) == 0:\n",
    "                break\n",
    "            sequences.append(seq)\n",
    "            qualities.append(qual)\n",
    "    return sequences, qualities"
   ]
  },
  {
   "cell_type": "code",
   "execution_count": 24,
   "metadata": {},
   "outputs": [],
   "source": [
    "seqs, quals = readFastq('ERR037900_1.first1000.fastq')"
   ]
  },
  {
   "cell_type": "code",
   "execution_count": 25,
   "metadata": {},
   "outputs": [],
   "source": [
    "def createHist(qualities):\n",
    "    hist = [0] * 50\n",
    "    for qual in qualities:\n",
    "        for phred in qual:\n",
    "            q = phred33ToQ(phred)\n",
    "            hist[q] += 1\n",
    "    return hist"
   ]
  },
  {
   "cell_type": "code",
   "execution_count": 27,
   "metadata": {},
   "outputs": [],
   "source": [
    "def phred33ToQ(qual):\n",
    "    '''Turn Phred+33 ASCII-encoded quality into Q'''\n",
    "    return ord(qual)-33"
   ]
  },
  {
   "cell_type": "code",
   "execution_count": 28,
   "metadata": {},
   "outputs": [
    {
     "name": "stdout",
     "output_type": "stream",
     "text": [
      "[0, 0, 17723, 0, 2, 11, 11, 28, 23, 55, 100, 111, 86, 174, 185, 272, 317, 259, 390, 1523, 2782, 762, 286, 413, 403, 538, 351, 694, 971, 777, 1024, 1449, 1341, 1312, 1916, 2233, 3025, 4043, 6640, 45696, 2074, 0, 0, 0, 0, 0, 0, 0, 0, 0]\n"
     ]
    }
   ],
   "source": [
    "h = createHist(quals)\n",
    "print(h)"
   ]
  },
  {
   "cell_type": "code",
   "execution_count": 29,
   "metadata": {},
   "outputs": [],
   "source": [
    "import matplotlib.pyplot as plt\n",
    "%matplotlib inline"
   ]
  },
  {
   "cell_type": "code",
   "execution_count": 30,
   "metadata": {},
   "outputs": [
    {
     "data": {
      "image/png": "[encoded data removed]",
      "text/plain": [
       "<Figure size 432x288 with 1 Axes>"
      ]
     },
     "metadata": {
      "needs_background": "light"
     },
     "output_type": "display_data"
    }
   ],
   "source": [
    "plt.bar(range(len(h)), h)\n",
    "plt.show()"
   ]
  },
  {
   "cell_type": "code",
   "execution_count": 31,
   "metadata": {},
   "outputs": [],
   "source": [
    "def findGCByPos(reads):\n",
    "    gc = [0] * 100\n",
    "    totals = [0] * 100\n",
    "    \n",
    "    for read in reads:\n",
    "        for i in range(len(read)):\n",
    "            if read[i] == 'C' or read[i] == 'G':\n",
    "                gc[i] += 1\n",
    "            totals[i] += 1\n",
    "                \n",
    "    for i in range(len(gc)):\n",
    "        if totals[i] >0:\n",
    "            gc[i] /= float(totals[1])\n",
    "            \n",
    "    return gc"
   ]
  },
  {
   "cell_type": "code",
   "execution_count": 32,
   "metadata": {},
   "outputs": [
    {
     "name": "stdout",
     "output_type": "stream",
     "text": [
      "[0.527, 0.478, 0.489, 0.492, 0.531, 0.537, 0.523, 0.495, 0.51, 0.508, 0.538, 0.529, 0.529, 0.495, 0.491, 0.527, 0.537, 0.534, 0.517, 0.507, 0.493, 0.499, 0.536, 0.536, 0.549, 0.504, 0.506, 0.514, 0.529, 0.524, 0.539, 0.491, 0.499, 0.502, 0.562, 0.534, 0.538, 0.494, 0.492, 0.504, 0.544, 0.53, 0.538, 0.508, 0.513, 0.51, 0.539, 0.539, 0.506, 0.505, 0.524, 0.516, 0.535, 0.542, 0.524, 0.491, 0.542, 0.507, 0.563, 0.525, 0.536, 0.512, 0.541, 0.525, 0.557, 0.528, 0.055, 0.534, 0.516, 0.564, 0.57, 0.526, 0.535, 0.502, 0.534, 0.539, 0.567, 0.539, 0.523, 0.504, 0.567, 0.555, 0.558, 0.545, 0.531, 0.534, 0.568, 0.569, 0.58, 0.55, 0.55, 0.508, 0.553, 0.576, 0.566, 0.585, 0.56, 0.573, 0.582, 0.596]\n"
     ]
    },
    {
     "data": {
      "image/png": "[encoded data removed]",
      "text/plain": [
       "<Figure size 432x288 with 1 Axes>"
      ]
     },
     "metadata": {
      "needs_background": "light"
     },
     "output_type": "display_data"
    }
   ],
   "source": [
    "gc = findGCByPos(seqs)\n",
    "print(gc)\n",
    "plt.plot(range(len(gc)), gc)\n",
    "plt.show()"
   ]
  },
  {
   "cell_type": "code",
   "execution_count": 34,
   "metadata": {},
   "outputs": [
    {
     "name": "stdout",
     "output_type": "stream",
     "text": [
      "Counter({'C': 29665, 'A': 24057, 'G': 22888, 'T': 22476, 'N': 914})\n"
     ]
    }
   ],
   "source": [
    "import collections\n",
    "count = collections.Counter()\n",
    "for seq in seqs:\n",
    "    count.update(seq)\n",
    "print(count)"
   ]
  },
  {
   "cell_type": "code",
   "execution_count": 38,
   "metadata": {},
   "outputs": [
    {
     "data": {
      "text/plain": [
       "0.055"
      ]
     },
     "execution_count": 38,
     "metadata": {},
     "output_type": "execute_result"
    }
   ],
   "source": [
    "gc[66]"
   ]
  },
  {
   "cell_type": "code",
   "execution_count": null,
   "metadata": {},
   "outputs": [],
   "source": []
  }
 ],
 "metadata": {
  "kernelspec": {
   "display_name": "Python 3",
   "language": "python",
   "name": "python3"
  },
  "language_info": {
   "codemirror_mode": {
    "name": "ipython",
    "version": 3
   },
   "file_extension": ".py",
   "mimetype": "text/x-python",
   "name": "python",
   "nbconvert_exporter": "python",
   "pygments_lexer": "ipython3",
   "version": "3.7.7"
  }
 },
 "nbformat": 4,
 "nbformat_minor": 4
}
