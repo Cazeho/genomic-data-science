{
 "cells": [
  {
   "cell_type": "code",
   "execution_count": null,
   "metadata": {},
   "outputs": [],
   "source": [
    "import sys\n",
    "import getopt"
   ]
  },
  {
   "cell_type": "markdown",
   "metadata": {},
   "source": [
    "# Building a Dictionary Containing all Sequences from a FASTA File"
   ]
  },
  {
   "cell_type": "code",
   "execution_count": 3,
   "metadata": {},
   "outputs": [
    {
     "name": "stdout",
     "output_type": "stream",
     "text": [
      "File myfile.fa does not exist.\n"
     ]
    },
    {
     "ename": "NameError",
     "evalue": "name 'f' is not defined",
     "output_type": "error",
     "traceback": [
      "\u001b[0;31m---------------------------------------------------------------------------\u001b[0m",
      "\u001b[0;31mNameError\u001b[0m                                 Traceback (most recent call last)",
      "\u001b[0;32m<ipython-input-3-2920c61c07d9>\u001b[0m in \u001b[0;36m<module>\u001b[0;34m\u001b[0m\n\u001b[1;32m      5\u001b[0m \u001b[0;34m\u001b[0m\u001b[0m\n\u001b[1;32m      6\u001b[0m \u001b[0mseq\u001b[0m \u001b[0;34m=\u001b[0m \u001b[0;34m{\u001b[0m\u001b[0;34m}\u001b[0m\u001b[0;34m\u001b[0m\u001b[0;34m\u001b[0m\u001b[0m\n\u001b[0;32m----> 7\u001b[0;31m \u001b[0;32mfor\u001b[0m \u001b[0mline\u001b[0m \u001b[0;32min\u001b[0m \u001b[0mf\u001b[0m\u001b[0;34m:\u001b[0m\u001b[0;34m\u001b[0m\u001b[0;34m\u001b[0m\u001b[0m\n\u001b[0m\u001b[1;32m      8\u001b[0m     \u001b[0;31m#discard the newline at the end\u001b[0m\u001b[0;34m\u001b[0m\u001b[0;34m\u001b[0m\u001b[0;34m\u001b[0m\u001b[0m\n\u001b[1;32m      9\u001b[0m     \u001b[0mline\u001b[0m \u001b[0;34m=\u001b[0m \u001b[0mline\u001b[0m\u001b[0;34m.\u001b[0m\u001b[0mrstrip\u001b[0m\u001b[0;34m(\u001b[0m\u001b[0;34m)\u001b[0m\u001b[0;34m\u001b[0m\u001b[0;34m\u001b[0m\u001b[0m\n",
      "\u001b[0;31mNameError\u001b[0m: name 'f' is not defined"
     ]
    }
   ],
   "source": [
    "try:\n",
    "    f = open(\"myfile.fa\")\n",
    "except IOError:\n",
    "    print(\"File myfile.fa does not exist.\")\n",
    "\n",
    "seq = {}\n",
    "for line in f:\n",
    "    #discard the newline at the end\n",
    "    line = line.rstrip()\n",
    "    # distinguish header from sequence\n",
    "    if line[0]=='>':\n",
    "        words=line.split()\n",
    "        name=words[0][1:]\n",
    "        seqs[name]=''\n",
    "    else: # sequence, not header\n",
    "        seqs[name] = seqs[name] + line\n",
    "close(f)"
   ]
  },
  {
   "cell_type": "markdown",
   "metadata": {},
   "source": [
    "## Retrieving Data from Dictionaries"
   ]
  },
  {
   "cell_type": "code",
   "execution_count": null,
   "metadata": {},
   "outputs": [],
   "source": [
    "for name, seq in seqs.items():\n",
    "    print(name, seq)"
   ]
  },
  {
   "cell_type": "markdown",
   "metadata": {},
   "source": [
    "## Usage Definition for processfasta.py"
   ]
  },
  {
   "cell_type": "code",
   "execution_count": null,
   "metadata": {},
   "outputs": [],
   "source": [
    "def usage():\n",
    "    print\"\"\"\n",
    "    processfasta.py : reads a FASTA file and builds a dictionary\n",
    "    with all sequences bigger than a given length\n",
    "    \n",
    "    processfasta.py [-h] [-l <length>] <filename>\n",
    "    \n",
    "    -h             print this message\n",
    "    \n",
    "    -l <length>    filter all sequences with a length\n",
    "                   smaller than <length>\n",
    "                   (default <length>=0)\n",
    "                   \n",
    "    <filename>     the file has to be in FASTA format\n",
    "    \"\"\""
   ]
  },
  {
   "cell_type": "code",
   "execution_count": null,
   "metadata": {},
   "outputs": [],
   "source": [
    "o, a = getopt.getopt(sys.argv[1:], 'l:h')\n",
    "opts = {}\n",
    "seqlen=0;\n",
    "\n",
    "for k, v, in o:\n",
    "    opts[k] = v\n",
    "if '-h' in opts.keys():\n",
    "    usage(); sys.exit()\n",
    "if len(a) < 1:\n",
    "    usage(); sys.exit(\"input fasta file is missing\")\n",
    "if '-l' in opts.keys():\n",
    "    if int(opts['l'])<0:\n",
    "        print(\"Length of sequence should be positive!\"); sys.exit(0)\n",
    "    seqlen=opts['-l']"
   ]
  },
  {
   "cell_type": "markdown",
   "metadata": {},
   "source": [
    "## Interfacing with External Programs"
   ]
  },
  {
   "cell_type": "code",
   "execution_count": null,
   "metadata": {},
   "outputs": [],
   "source": [
    "import subprocess\n",
    "subprocess.call(['ls', '-l'])"
   ]
  },
  {
   "cell_type": "code",
   "execution_count": null,
   "metadata": {},
   "outputs": [],
   "source": [
    "subprocess.call([\"tophat\", \"genome_mouse_idx\", \n",
    "                 \"PEreads_1.fq.gz\", \"PE_reads_2.fq.gz\"])"
   ]
  }
 ],
 "metadata": {
  "kernelspec": {
   "display_name": "Python 3",
   "language": "python",
   "name": "python3"
  },
  "language_info": {
   "codemirror_mode": {
    "name": "ipython",
    "version": 3
   },
   "file_extension": ".py",
   "mimetype": "text/x-python",
   "name": "python",
   "nbconvert_exporter": "python",
   "pygments_lexer": "ipython3",
   "version": "3.6.9"
  }
 },
 "nbformat": 4,
 "nbformat_minor": 2
}
